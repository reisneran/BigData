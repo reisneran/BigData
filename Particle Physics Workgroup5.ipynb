{
 "cells": [
  {
   "cell_type": "code",
   "execution_count": 1,
   "metadata": {},
   "outputs": [],
   "source": [
    "import pandas as pd\n",
    "import numpy as np\n",
    "import matplotlib.pyplot as plt\n",
    "from scipy.stats import norm\n",
    "\n",
    "%matplotlib inline"
   ]
  },
  {
   "cell_type": "code",
   "execution_count": 2,
   "metadata": {},
   "outputs": [],
   "source": [
    "muons=pd.read_csv('http://opendata.cern.ch/record/545/files/Dimuon_DoubleMu.csv')"
   ]
  },
  {
   "cell_type": "markdown",
   "metadata": {},
   "source": [
    "<b><center><font size=\"6\">Get something out of it!<b/></center></fontsize>"
   ]
  },
  {
   "cell_type": "markdown",
   "metadata": {},
   "source": [
    "<img src=\"https://media.giphy.com/media/x0d6O6UaReoJq/giphy.gif\"\n",
    "alt=\"new\">"
   ]
  },
  {
   "cell_type": "markdown",
   "metadata": {},
   "source": [
    "Congratulations! You just plotted and \"analysed\" the whole data and as you did so you created a nice overview of your 10 000 datapoints."
   ]
  },
  {
   "cell_type": "markdown",
   "metadata": {},
   "source": [
    "Now let's get one step further! Therefore we have to remember our maingoal: we want to find a new particle. Yay! <br>Theoretical predictions from 1974 say that there is a probability of 6% that some particle with a mass of around $3 GeV/c^2$ and a lifetime of $7.2\\cdot10^{-21} s$ decays into two muons.\n",
    "<br>Did i get i right? https://de.wikipedia.org/wiki/J/%CF%88-Meson"
   ]
  },
  {
   "cell_type": "markdown",
   "metadata": {},
   "source": [
    "GeV and kg?"
   ]
  },
  {
   "cell_type": "markdown",
   "metadata": {},
   "source": [
    "Answer:"
   ]
  },
  {
   "cell_type": "markdown",
   "metadata": {},
   "source": [
    "What is the important information in the text above which can be used to have a closer look at the data? "
   ]
  },
  {
   "cell_type": "markdown",
   "metadata": {},
   "source": [
    "Answer:"
   ]
  },
  {
   "cell_type": "markdown",
   "metadata": {},
   "source": [
    "If we want to look into some part of our histogramm at a shorter range we need to create a new function which uses only the part of the data that we are interested in. Then we have to plot the limited data again. Here is an example how you can do that: "
   ]
  },
  {
   "cell_type": "markdown",
   "metadata": {},
   "source": [
    "<b><center><font size=\"6\">Example</b></center></font>"
   ]
  },
  {
   "cell_type": "markdown",
   "metadata": {},
   "source": [
    "<font color='black'><b>Step 1:</b> You want to limit your orignial data set. Therefore you have to name the limited data set and set limits for the values of the column you want to use. </font> <br>\n",
    "\n",
    "<font color='green'> <font color='red'>name of limited data</font> = <font color='red'>name of original dataset</font>[(<font color='red'>name of  dataset</font>.<font color='red'>name of  column</font>>=<font color='red'>lower limit</font>) & (<font color='red'>name of  dataset</font>.<font color='red'>name of  column</font><=<font color='red'>higher limit</font>)] </font>\n"
   ]
  },
  {
   "cell_type": "markdown",
   "metadata": {},
   "source": [
    "\n",
    "<font color='black'><b>Step 2</b>: Now it's time to name the figure and set the size of the figure. The function responsible for setting the size contains a x-scale and a y-scale (like a rectangle). </font><br><font color='green'><font color='red'>name of  figure</font> = plt.figure(figsize=(<font color='red'>size of x-scale</font>, <font color='red'>size of y-scale</font>))\n",
    "    "
   ]
  },
  {
   "cell_type": "markdown",
   "metadata": {},
   "source": [
    "<font color='black'><b>Step 3</b>: Plot a histogram like you did it before. You only have to use the limited data now:</b>\n",
    "<br><font color='green'>plt.hist(<font color='red'>name of  limited data</font>.<font color='red'>name of  column</font>, <font color='red'>number of bins</font>, range = (<font color='red'>lower limit</font>, <font color='red'>higher limit</font>))<\\font>"
   ]
  },
  {
   "cell_type": "markdown",
   "metadata": {},
   "source": [
    "\n",
    "\n",
    "<font color='black'> <b>Step 4</b>: Name the plot, x-axis and y-axis. </font><br>\n",
    "<font color='green'>plt.xlabel('<font color='red'>name of xlabel</font>', fontsize = <font color='red'>size in numbers</font>)<br>\n",
    "<font color='green'>plt.ylabel('<font color='red'>name of ylabel</font>\\n', fontsize = <font color='red'>size in numbers</font>)<br>\n",
    "<font color='green'>plt.title('<font color='red'>name of title</font>\\n', fontsize = <font color='red'>size in numbers</font>\n",
    "\n"
   ]
  },
  {
   "cell_type": "markdown",
   "metadata": {},
   "source": [
    "    \n",
    "<font color='black'><b>Final step:</b> Plot it!</font><br>\n",
    "<font color='green'>plt.show()</font>\n"
   ]
  },
  {
   "cell_type": "markdown",
   "metadata": {},
   "source": [
    "Note: The symbol \\n only creates a new line and makes the plot look nicer."
   ]
  },
  {
   "cell_type": "markdown",
   "metadata": {},
   "source": [
    "<img src=\"https://media1.tenor.com/images/a665bc21fdb265f8f7ffe1bb045a19cb/tenor.gif?itemid=9198701\"\n",
    "alt=\"easy\">"
   ]
  },
  {
   "cell_type": "markdown",
   "metadata": {},
   "source": [
    "<b><center><font size=\"6\">Some Coding</b></center></font>"
   ]
  },
  {
   "cell_type": "markdown",
   "metadata": {},
   "source": [
    "Now it's your turn. Create a plot, that only shows the relevant informations in the line below. Just change the red parts of the code above and leave the green parts as they are. Ok, let's go: "
   ]
  },
  {
   "cell_type": "markdown",
   "metadata": {},
   "source": [
    "<img src=\"https://i.imgur.com/3fAd0w8.gif?1\"\n",
    "alt=\"Coding\">"
   ]
  },
  {
   "cell_type": "code",
   "execution_count": 3,
   "metadata": {},
   "outputs": [
    {
     "data": {
      "image/png": "[encoded data removed]",
      "text/plain": [
       "<Figure size 1080x720 with 1 Axes>"
      ]
     },
     "metadata": {},
     "output_type": "display_data"
    }
   ],
   "source": [
    "bump = muons[(muons.M >= 2) & (muons.M <= 4)]\n",
    "\n",
    "fig = plt.figure(figsize=(15, 10))\n",
    "\n",
    "plt.hist(bump.M, 300, range = (2,4))\n",
    "\n",
    "plt.xlabel('Invariant mass (GeV/$c^2$)', fontsize = 15)\n",
    "plt.ylabel('Number of events \\n', fontsize = 15)\n",
    "plt.title('Measured distribution of events with two muons \\n', fontsize = 15)\n",
    "\n",
    "plt.show()"
   ]
  },
  {
   "cell_type": "markdown",
   "metadata": {},
   "source": [
    "<b><font size=\"6\"> <center>Reflection Questions!</b></font></center>"
   ]
  },
  {
   "cell_type": "markdown",
   "metadata": {},
   "source": [
    "What the hell am I doing here?"
   ]
  },
  {
   "cell_type": "markdown",
   "metadata": {},
   "source": [
    "Answer:"
   ]
  },
  {
   "cell_type": "markdown",
   "metadata": {},
   "source": [
    "How can we justify the existance of this particle by using the histogram above?"
   ]
  },
  {
   "cell_type": "markdown",
   "metadata": {},
   "source": [
    "Answer:"
   ]
  },
  {
   "cell_type": "markdown",
   "metadata": {},
   "source": [
    "What information do we exactly reveal from the data? "
   ]
  },
  {
   "cell_type": "markdown",
   "metadata": {},
   "source": [
    "Answer:"
   ]
  },
  {
   "cell_type": "markdown",
   "metadata": {},
   "source": [
    "Do you think that this histogram \"prooves\" the theoretical predictions?"
   ]
  },
  {
   "cell_type": "markdown",
   "metadata": {},
   "source": [
    "Answer:"
   ]
  },
  {
   "cell_type": "markdown",
   "metadata": {},
   "source": [
    "How can open data be used to \"find\" other particles?"
   ]
  },
  {
   "cell_type": "markdown",
   "metadata": {},
   "source": [
    "Answer:"
   ]
  },
  {
   "cell_type": "markdown",
   "metadata": {},
   "source": [
    "Why do scientist might use a software like jupyter to deal with big data?"
   ]
  },
  {
   "cell_type": "markdown",
   "metadata": {},
   "source": [
    "Answer:"
   ]
  },
  {
   "cell_type": "markdown",
   "metadata": {},
   "source": [
    "List the main steps you took to get to your final plot and describe them generally. "
   ]
  },
  {
   "cell_type": "markdown",
   "metadata": {},
   "source": [
    "Answer:"
   ]
  },
  {
   "cell_type": "markdown",
   "metadata": {},
   "source": [
    "What's your opinion: Can these steps be used to for other scientific problems? Why?"
   ]
  },
  {
   "cell_type": "markdown",
   "metadata": {},
   "source": [
    "Answer:"
   ]
  },
  {
   "cell_type": "markdown",
   "metadata": {},
   "source": [
    "<b> <center><font size=\"6\">Congratulations! You just won the nobel prize!!</b> </center></font><br>\n",
    "Here are some further information about the particle you just found.\n",
    "<br>https://www.symmetrymagazine.org/breaking/2008/05/16/the-jpsi-particle-original-papers"
   ]
  },
  {
   "cell_type": "markdown",
   "metadata": {},
   "source": [
    "<img src=\"https://media.giphy.com/media/3orif4qbRS6WjGJ2zC/giphy.gif\"\n",
    "alt=\"Nobel\">"
   ]
  },
  {
   "cell_type": "markdown",
   "metadata": {},
   "source": [
    "<img src=\"https://i.pinimg.com/originals/c0/11/53/c011532c725c0f282d20bc6ae46ab27e.gif\"\n",
    "alt=\"Nobel\">"
   ]
  },
  {
   "cell_type": "markdown",
   "metadata": {},
   "source": [
    "<img src=\"https://static1.squarespace.com/static/53422302e4b02233d7451d48/t/54507b04e4b0830eb42cc777/1414560526469/?format=1000w\"\n",
    "alt=\"Brain\">"
   ]
  },
  {
   "cell_type": "markdown",
   "metadata": {},
   "source": [
    "<img src=\"https://media.giphy.com/media/l0G16vfdq73AtzmKc/giphy.gif\"\n",
    "alt=\"Simpsons\">"
   ]
  }
 ],
 "metadata": {
  "kernelspec": {
   "display_name": "Python 3",
   "language": "python",
   "name": "python3"
  },
  "language_info": {
   "codemirror_mode": {
    "name": "ipython",
    "version": 3
   },
   "file_extension": ".py",
   "mimetype": "text/x-python",
   "name": "python",
   "nbconvert_exporter": "python",
   "pygments_lexer": "ipython3",
   "version": "3.6.5"
  }
 },
 "nbformat": 4,
 "nbformat_minor": 2
}
